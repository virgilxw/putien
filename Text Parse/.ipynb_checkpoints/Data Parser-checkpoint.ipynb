{
 "cells": [
  {
   "cell_type": "markdown",
   "metadata": {},
   "source": [
    "# Text parser for volume two"
   ]
  },
  {
   "cell_type": "code",
   "execution_count": 45,
   "metadata": {},
   "outputs": [],
   "source": [
    "import os\n",
    "with open(\"raw.txt\", \"r\") as infile:\n",
    "    data = infile.readlines()\n",
    "    \n",
    "    # Usable Parts of Section Two\n",
    "    with open(\"Southern.txt\", 'w') as outfile:\n",
    "        outfile.writelines(data[3074:18607])\n",
    "        \n",
    "    # Usable Parts of Section Three\n",
    "    with open(\"Northern.txt\", 'w') as outfile:\n",
    "        outfile.writelines(data[18611:39874])\n",
    "        \n",
    "    # Usable Parts of Section Four\n",
    "    with open(\"Jiuliyang.txt\", 'w') as outfile:\n",
    "        outfile.writelines(data[39727:43643])"
   ]
  },
  {
   "cell_type": "code",
   "execution_count": 32,
   "metadata": {},
   "outputs": [],
   "source": [
    "import re\n",
    "\n",
    "def refine(file):\n",
    "    # Function to process raw data for future further operation\n",
    "    \n",
    "    buffer = None\n",
    "    \n",
    "    with open(file, \"r+\") as f:\n",
    "        buffer = f.read()\n",
    "        f.seek(0)\n",
    "        \n",
    "        # Delete Watermarks\n",
    "        buffer = re.sub(\"Kenneth Dean and Zhenman ZHENG - 978-90-47-44017-8\", \"\", buffer).rstrip()\n",
    "        buffer = re.sub(\"Downloaded from Brill.com02/18/2020 04:31:15AM\", \"\", buffer).rstrip()\n",
    "        buffer = re.sub(\"via National University of Singapore - YNC Library\", \"\", buffer).rstrip()\n",
    "        \n",
    "        # Delete Headers\n",
    "        buffer = re.sub(\"the southern irrigated plain 南洋水利系统\", \"\", buffer).rstrip()\n",
    "        buffer = re.sub(\"the northern irrigated plain 北洋水利系统\", \"\", buffer).rstrip()\n",
    "        buffer = re.sub(\"the jiuliyang irrigated plain 九里洋水利系统\", \"\", buffer).rstrip()\n",
    "        buffer = re.sub(\"part (one|two|three|four|five)\", \"\", buffer).rstrip()\n",
    "        \n",
    "        # Delete Page Numbers\n",
    "        buffer = re.sub(\"\\n[0-9]+\\n\", \"\", buffer).rstrip()\n",
    "        buffer = re.sub(\"\\f(.*?)\\n\", \"\", buffer).rstrip()\n",
    "        buffer = re.sub(\"\\n\\n(A|V)[0-9]+\\n\\n\\n\", \"\", buffer).rstrip()\n",
    "        \n",
    "        # Delete blank lines\n",
    "        buffer = re.sub(\"\\n+\", \" \", buffer).rstrip()\n",
    "        \n",
    "        # Add line breaks at each new entry\n",
    "        buffer = re.sub(\"((A|V)[0-9]{3})\", \"\\n\\g<1>\", buffer)\n",
    "\n",
    "        f.truncate()        \n",
    "        f.write(buffer)"
   ]
  },
  {
   "cell_type": "code",
   "execution_count": 46,
   "metadata": {},
   "outputs": [],
   "source": [
    "refine(\"Southern.txt\")\n",
    "refine(\"Northern.txt\")\n",
    "refine(\"Jiuliyang.txt\")\n",
    "\n"
   ]
  },
  {
   "cell_type": "code",
   "execution_count": 4,
   "metadata": {},
   "outputs": [],
   "source": [
    "# Load qijings from contents\n",
    "import re, os json\n",
    "\n",
    "village_index = []\n",
    "\n",
    "with open(\"contentIndex.txt\", \"w\") as outfile:\n",
    "    with open(\"contents.txt\") as infile:\n",
    "        for line in infile:\n",
    "            buffer = re.split(\"(V[0-9]{3})\", line)      \n",
    "            entry = {\n",
    "                \"UID_A\": buffer[0][0:4],\n",
    "                \"Name\": \" \".join(buffer[0].split(\" \")[1:-2]),\n",
    "                \"Name_zh\": buffer[0].split(\" \")[-2]\n",
    "            }\n",
    "            \n",
    "            runs = int((len(buffer)-1)/2 + 1)\n",
    "            villageList=[]\n",
    "                        \n",
    "            for i in range(1,runs):\n",
    "                village_entry = {\n",
    "                    \"UID_V\": buffer[i*2-1],\n",
    "                    \"Name\": buffer[i*2].split(\" \")[1],\n",
    "                    \"Name_zh\": buffer[i*2].split(\" \")[2]\n",
    "                }\n",
    "                villageList.append(village_entry)\n",
    "            \n",
    "            entry[\"Num_Villages\"] = len(villageList)\n",
    "            entry[\"Villages\"] = villageList\n",
    "            \n",
    "            village_index.append(entry)\n",
    "            \n",
    "    with open(\"./village_index.json\", \"w\") as outfile:\n",
    "        json.dump(village_index, outfile, ensure_ascii=False)\n",
    "        outfile.close()\n",
    "                \n",
    "    infile.close()\n",
    "    \n",
    "#search function\n",
    "def whatAlliance(searchterm):\n",
    "    for alliance in village_index:\n",
    "        for village in alliance[\"Villages\"]:\n",
    "            if village[\"UID_V\"] == searchterm:\n",
    "                return alliance\n",
    "        \n",
    "    return -1\n",
    "    "
   ]
  },
  {
   "cell_type": "code",
   "execution_count": 63,
   "metadata": {},
   "outputs": [
    {
     "ename": "SyntaxError",
     "evalue": "invalid syntax (<ipython-input-63-328b4c5bc723>, line 34)",
     "output_type": "error",
     "traceback": [
      "\u001b[0;36m  File \u001b[0;32m\"<ipython-input-63-328b4c5bc723>\"\u001b[0;36m, line \u001b[0;32m34\u001b[0m\n\u001b[0;31m    \"Village_Settlement\": buffer2[0][22:-1],\u001b[0m\n\u001b[0m                        ^\u001b[0m\n\u001b[0;31mSyntaxError\u001b[0m\u001b[0;31m:\u001b[0m invalid syntax\n"
     ]
    }
   ],
   "source": [
    "# Load Text and print them into seperate text files.\n",
    "import json\n",
    "\n",
    "villages = []\n",
    "\n",
    "\n",
    "from pathlib import Path\n",
    "Path(\"./Villages\").mkdir(parents=True, exist_ok=True)\n",
    "\n",
    "def createVillageFiles(path):\n",
    "\n",
    "    with open(path) as infile:\n",
    "        for line in infile:\n",
    "            if line[0] == \"V\":\n",
    "                uid = line[0:4]                \n",
    "                buffer1 = line.split(\" \", 3)\n",
    "                buffer2 = buffer1[3].partition(\"2.\")\n",
    "                buffer3 = buffer2[2].partition(\"3.\")\n",
    "                buffer4 = buffer3[2].partition(\"4.\")\n",
    "                buffer5 = buffer4[2].partition(\"Birthday celebrations of the gods\")\n",
    "            \n",
    "                # Search for Alliance details\n",
    "                allianceDetails = whatAlliance(uid)\n",
    "            \n",
    "                entry = {\n",
    "                    \"UID\": buffer1[0],\n",
    "                    \"Name\": buffer1[1],\n",
    "                    \"Name_zh\": buffer1[2],\n",
    "                    \"Alliance\": allianceDetails[\"Name\"],\n",
    "                    \"Alliance_UID\": allianceDetails[\"UID_A\"],\n",
    "                    \"Alliance_zh\": allianceDetails[\"Name_zh\"],\n",
    "                    \"Irrigation_Region\": path[:-4],\n",
    "                    \"Details\": {\n",
    "                        \"Village_Settlement\": buffer2[0][22:-1],\n",
    "                        \"Surname_Groups\": buffer3[0][16:-1],\n",
    "                        \"Village_Temples\": buffer4[0][17:-1],\n",
    "                        \"Rituals\": {\n",
    "                            \"Processions\": buffer5[0][31:-1],\n",
    "                            \"Birthday\": buffer5[2][1:-2]\n",
    "                        }\n",
    "                    }\n",
    "                }\n",
    "\n",
    "                    # Find administrative village\n",
    "                admin_village = re.search(\"\\w* Administrative Village\\s([^\\.\\s]+)\", entry[\"Village_Settlement\"])\n",
    "                if admin_village != None:\n",
    "                    split_words = admin_village.group(0).split(\" \")\n",
    "                    entry[\"Administrative Village\"] = \" \".join(split_words[:-1])\n",
    "                    entry[\"Administrative Village_zh\"] = \"\".join(split_words[-1])                    \n",
    "                else:\n",
    "                    entry[\"Administrative Village\"] = \"-1\"\n",
    "                    entry[\"Administrative Village_zh\"] = \"-1\"\n",
    "                \n",
    "                population = re.search(\"[0-9]*(?=\\speople)\", entry[\"Village_Settlement\"])\n",
    "                if population != None:\n",
    "                    entry[\"Population\"] = population.group(0)\n",
    "                else:\n",
    "                    entry[\"Population\"] = \"-1\"\n",
    "                \n",
    "                villages.append(entry)\n",
    "                \n",
    "                \n",
    "                # Open and edit a new text file for each line\n",
    "                with open(\"./Villages/\"+uid+\".json\", \"w\") as outfile:\n",
    "                    json.dump(entry, outfile, ensure_ascii=False)\n",
    "                    outfile.close()\n",
    "                    \n",
    "                with open(\"./village_master.json\", \"w\") as outfile:\n",
    "                    json.dump(villages, outfile, ensure_ascii=False)\n",
    "                    outfile.close()\n",
    "                \n",
    "        infile.close()\n",
    "              "
   ]
  },
  {
   "cell_type": "code",
   "execution_count": 61,
   "metadata": {},
   "outputs": [],
   "source": [
    "createVillageFiles(\"Southern.txt\")\n",
    "createVillageFiles(\"Northern.txt\")\n",
    "createVillageFiles(\"Jiuliyang.txt\")"
   ]
  },
  {
   "cell_type": "code",
   "execution_count": 195,
   "metadata": {},
   "outputs": [
    {
     "data": {
      "text/plain": [
       "-1"
      ]
     },
     "execution_count": 195,
     "metadata": {},
     "output_type": "execute_result"
    }
   ],
   "source": [
    "whatAlliance(\"V365\")"
   ]
  },
  {
   "cell_type": "code",
   "execution_count": null,
   "metadata": {},
   "outputs": [],
   "source": []
  }
 ],
 "metadata": {
  "kernelspec": {
   "display_name": "Python 3",
   "language": "python",
   "name": "python3"
  },
  "language_info": {
   "codemirror_mode": {
    "name": "ipython",
    "version": 3
   },
   "file_extension": ".py",
   "mimetype": "text/x-python",
   "name": "python",
   "nbconvert_exporter": "python",
   "pygments_lexer": "ipython3",
   "version": "3.7.3"
  }
 },
 "nbformat": 4,
 "nbformat_minor": 2
}
